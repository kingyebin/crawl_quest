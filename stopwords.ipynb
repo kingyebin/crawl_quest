{
 "cells": [
  {
   "cell_type": "code",
   "execution_count": 2,
   "id": "79df5ad0",
   "metadata": {},
   "outputs": [],
   "source": [
    "stopwords = ['은', '는', '이', '가', '을', '를', '의', '와', '과', '등', '등등', '했', '있', '에게', '께', '다', '들', '에', '대한', '었', '그리고',\n",
    " '그래서', '그런데', '하지만', '비록', '최근', '약', '대략', '할', '수', '로', '가령', '이나', '및', '한', '같은', '처럼', '하다', '에서', '인',\n",
    " '으로', '도', '한층', '더', '더욱', '몹시', '고', '요']"
   ]
  },
  {
   "cell_type": "code",
   "execution_count": null,
   "id": "9df5ded1",
   "metadata": {},
   "outputs": [],
   "source": []
  },
  {
   "cell_type": "code",
   "execution_count": 3,
   "id": "ca782891",
   "metadata": {},
   "outputs": [],
   "source": [
    "def add_stopwords(input_word):\n",
    "    if input_word not in stopwords:\n",
    "        stopwords.append(input_word)\n",
    "    print(len(stopwords))\n",
    "    \n",
    "def sub_stopwords(input_word):\n",
    "    if input_word in stopwords:\n",
    "        stopwords.remove(input_word)\n",
    "    print(len(stopwords))\n",
    "    \n",
    "def sub_stopwords_latest():\n",
    "    stopwords.pop[-1]\n",
    "    print(len(stopwords))"
   ]
  },
  {
   "cell_type": "code",
   "execution_count": 7,
   "id": "ebeec33a",
   "metadata": {},
   "outputs": [
    {
     "name": "stdout",
     "output_type": "stream",
     "text": [
      "불용어로 추가할 말을 입력하세요: 지난\n",
      "51\n"
     ]
    }
   ],
   "source": [
    "input_word = input(\"불용어로 추가할 말을 입력하세요: \")\n",
    "add_stopwords(input_word)"
   ]
  },
  {
   "cell_type": "code",
   "execution_count": 8,
   "id": "6e3b5ee7",
   "metadata": {},
   "outputs": [
    {
     "data": {
      "text/plain": [
       "['은',\n",
       " '는',\n",
       " '이',\n",
       " '가',\n",
       " '을',\n",
       " '를',\n",
       " '의',\n",
       " '와',\n",
       " '과',\n",
       " '등',\n",
       " '등등',\n",
       " '했',\n",
       " '있',\n",
       " '에게',\n",
       " '께',\n",
       " '다',\n",
       " '들',\n",
       " '에',\n",
       " '대한',\n",
       " '었',\n",
       " '그리고',\n",
       " '그래서',\n",
       " '그런데',\n",
       " '하지만',\n",
       " '비록',\n",
       " '최근',\n",
       " '약',\n",
       " '대략',\n",
       " '할',\n",
       " '수',\n",
       " '로',\n",
       " '가령',\n",
       " '이나',\n",
       " '및',\n",
       " '한',\n",
       " '같은',\n",
       " '처럼',\n",
       " '하다',\n",
       " '에서',\n",
       " '인',\n",
       " '으로',\n",
       " '도',\n",
       " '한층',\n",
       " '더',\n",
       " '더욱',\n",
       " '몹시',\n",
       " '고',\n",
       " '요',\n",
       " '일',\n",
       " '이번',\n",
       " '지난']"
      ]
     },
     "execution_count": 8,
     "metadata": {},
     "output_type": "execute_result"
    }
   ],
   "source": [
    "stopwords"
   ]
  },
  {
   "cell_type": "code",
   "execution_count": 43,
   "id": "b3a4275c",
   "metadata": {},
   "outputs": [
    {
     "name": "stdout",
     "output_type": "stream",
     "text": [
      "불용어에서 제거할 말을 입력하세요: 해\n",
      "12\n"
     ]
    }
   ],
   "source": [
    "remove_word = input(\"불용어에서 제거할 말을 입력하세요: \")\n",
    "sub_stopwords(remove_word)"
   ]
  },
  {
   "cell_type": "code",
   "execution_count": null,
   "id": "537085f3",
   "metadata": {},
   "outputs": [],
   "source": [
    "sub_stopwords_latest()"
   ]
  },
  {
   "cell_type": "markdown",
   "id": "f3a56bad",
   "metadata": {},
   "source": [
    "stopwords = ['에','는','은','을','했','에게','있','이','의','하','한','다','과','때문','할','수','무단','따른','및','금지','전재','경향신문','기자','는데','가','등','들','파이낸셜','저작','등','뉴스']"
   ]
  },
  {
   "cell_type": "markdown",
   "id": "dec17afe",
   "metadata": {},
   "source": [
    "### 예시1 “이런 XXX(같은)” 욕설 회의... 카카오 임원 “문제점 지적(하다) 실수”\n",
    "김 총괄(은) 이밖(에) 카카오에서 직면한 문제들에 대해서도 언급(했)(다). (가령), 직책(이나) 경력(에) 안 맞게 들쭉날쭉 다른 연봉체계(와) 데이터센터 (및) 서울아레나 사업(에) (대한) 비리 제보, 20억원(이) 넘는 초고가 골프장 법인회원권(과) 그에 대비되는 열악(한) 직원들 휴양 시설, 제주도 본사(의) 부족(한) 보육 시설 문제 (등) 다양한 문제(를) 소셜미디어(를) 통해 언급(했)(다).\n",
    "\n",
    "[출처]:https://n.news.naver.com/mnews/article/023/0003801824?sid=105"
   ]
  },
  {
   "cell_type": "markdown",
   "id": "05d1523f",
   "metadata": {},
   "source": [
    "### 예시2 하윤수 부산교육감 인성 영·수캠프 아침체인지 동행\n",
    "\n",
    "하윤수 부산교육감(이) 11일 동의대학교(에서) 진행 중(인) '숙박형 인성 영어·수학캠프'에 참가하고 (있)(는) 학생 75명(과) 아침체인지 활동(을) 했다.\n",
    "하윤수 교육감(과) 학생(들)(은) 동의대학교 상영관(에서) 아침체인지 활동(으로) 몸풀기 게임(을) 하고 펜싱 교육(도) 받았다.\n",
    "\n",
    "하윤수 교육감은 \"공부하다 보면 힘들 때도 있겠지만 친구와 부대끼는 소중한 시간을 통해 (한층) (더) 성장하는 값진 캠프가 되길 바란다\"(고) 말(했)(다).\n",
    "\n",
    "[출처]:https://n.news.naver.com/mnews/article/008/0004985087?sid=102"
   ]
  },
  {
   "cell_type": "markdown",
   "id": "83d08a09",
   "metadata": {},
   "source": [
    "### 예시3 \"패션 장학생 키운다\" 무신사, '브랜드 온앤오프' 프로그램 진행\n",
    "\n",
    "(이번) 프로그램은 지난해 9월 선발한 4기 무신사 패션 장학생 19(명)을 대상으로 진로를 탐색(하고) 실무 현장을 체험하는 기회를 제공하기 (위해) 마련됐다.\n",
    "\n",
    "(지난) 10(일) 진행된 브랜드 온앤오프 프로그램에는 디자이너 브랜드 '유스(youth)'(를) 전개하는 김준현 이공오 컴퍼니 대표가 일일멘토(로) 나섰다.\n",
    "\n",
    "\n",
    "[출처]:https://n.news.naver.com/mnews/article/003/0012314518?sid=101"
   ]
  }
 ],
 "metadata": {
  "kernelspec": {
   "display_name": "Python 3 (ipykernel)",
   "language": "python",
   "name": "python3"
  },
  "language_info": {
   "codemirror_mode": {
    "name": "ipython",
    "version": 3
   },
   "file_extension": ".py",
   "mimetype": "text/x-python",
   "name": "python",
   "nbconvert_exporter": "python",
   "pygments_lexer": "ipython3",
   "version": "3.9.7"
  }
 },
 "nbformat": 4,
 "nbformat_minor": 5
}
