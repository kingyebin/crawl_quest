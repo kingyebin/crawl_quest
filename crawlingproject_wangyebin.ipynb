{
 "cells": [
  {
   "cell_type": "code",
   "execution_count": 4,
   "id": "0ed211b8",
   "metadata": {},
   "outputs": [],
   "source": [
    "# Import\n",
    "\n",
    "import requests\n",
    "import pandas as pd\n",
    "from bs4 import BeautifulSoup\n",
    "from newspaper import Article\n",
    "import os\n",
    "import matplotlib.pyplot as plt\n",
    "from konlpy.tag import Mecab"
   ]
  },
  {
   "cell_type": "code",
   "execution_count": null,
   "id": "b2384a1b",
   "metadata": {},
   "outputs": [],
   "source": [
    "# url list 를 반환하는 함수\n",
    "## 페이지 수, 카테고리, 날짜를 입력값으로 받습니다.\n",
    "\n",
    "def make_urllist(page_num, code, date): \n",
    "  urllist= []\n",
    "  for i in range(1, page_num + 1):\n",
    "    url = 'https://news.naver.com/main/list.nhn?mode=LSD&mid=sec&sid1='+str(code)+'&date='+str(date)+'&page='+str(i)\n",
    "    headers = {'User-Agent': 'Mozilla/5.0 (X11; Linux x86_64) AppleWebKit/537.36 (KHTML, like Gecko) Chrome/54.0.2840.90 Safari/537.36'}\n",
    "    news = requests.get(url, headers=headers)\n",
    "    #print(url)\n",
    "\n",
    "    # BeautifulSoup의 인스턴스 생성합니다. 파서는 html.parser를 사용합니다.\n",
    "    soup = BeautifulSoup(news.content, 'html.parser')\n",
    "\n",
    "    # CASE 1\n",
    "    news_list = soup.select('.newsflash_body .type06_headline li dl')\n",
    "    # CASE 2\n",
    "    news_list.extend(soup.select('.newsflash_body .type06 li dl'))\n",
    "        \n",
    "    # 각 뉴스로부터 a 태그인 <a href ='주소'> 에서 '주소'만을 가져옵니다.\n",
    "    for line in news_list:\n",
    "        urllist.append(line.a.get('href'))\n",
    "  return urllist"
   ]
  },
  {
   "cell_type": "code",
   "execution_count": null,
   "id": "11c8182f",
   "metadata": {},
   "outputs": [],
   "source": [
    "# 딕셔너리 생성 - key(code), value(actual catetory) \n",
    "\n",
    "idx2word = {'101' : '경제', '102' : '사회', '103' : '생활/문화', '105' : 'IT/과학'}"
   ]
  },
  {
   "cell_type": "code",
   "execution_count": null,
   "id": "ad11eab6",
   "metadata": {},
   "outputs": [],
   "source": [
    "# 카테고리별 기사들을 데이터프레임에 저장하는 함수\n",
    "## url list, 카테고리를 입력값으로 받습니다.\n",
    "\n",
    "def make_data(urllist, code):\n",
    "  text_list = []\n",
    "  for url in urllist:\n",
    "    article = Article(url, language='ko')\n",
    "    article.download()\n",
    "    article.parse()\n",
    "    text_list.append(article.title)\n",
    "\n",
    "  #- 데이터프레임의 'news' 키 아래 파싱한 텍스트를 밸류로 붙여줍니다.\n",
    "  df = pd.DataFrame({'news': text_list})\n",
    "\n",
    "  #- 데이터프레임의 'code' 키 아래 한글 카테고리명을 붙여줍니다.\n",
    "  df['code'] = idx2word[str(code)]\n",
    "  return df"
   ]
  },
  {
   "cell_type": "code",
   "execution_count": null,
   "id": "e2b5a3cd",
   "metadata": {},
   "outputs": [],
   "source": [
    "# 크롤링할 카테고리 list 생성\n",
    "\n",
    "code_list = [102, 103, 105]"
   ]
  },
  {
   "cell_type": "code",
   "execution_count": null,
   "id": "5e8aea63",
   "metadata": {},
   "outputs": [],
   "source": [
    "# 여러 카테고리 기사들을 데이터프레임에 저장하는 함수\n",
    "## make_urllist와 make_data 함수를 호출\n",
    "### 크롤링할 페이지 개수, code_list, 날짜를 입력값으로 받습니다.\n",
    "\n",
    "def make_total_data(page_num, code_list, date):\n",
    "  df = None\n",
    "\n",
    "  for code in code_list:\n",
    "    url_list = make_urllist(page_num, code, date)\n",
    "    df_temp = make_data(url_list, code)\n",
    "    print(str(code)+'번 코드에 대한 데이터를 만들었습니다.')\n",
    "\n",
    "    if df is not None:\n",
    "      df = pd.concat([df, df_temp])\n",
    "    else:\n",
    "      df = df_temp\n",
    "\n",
    "  return df"
   ]
  },
  {
   "cell_type": "code",
   "execution_count": null,
   "id": "f7cc4514",
   "metadata": {},
   "outputs": [],
   "source": [
    "df1 = make_total_data(5, code_list, 20230904)\n",
    "df2 = make_total_data(5, code_list, 20231128)\n",
    "df3 = make_total_data(5, code_list, 20240101)\n",
    "df4 = make_total_data(5, code_list, 20240110)"
   ]
  },
  {
   "cell_type": "code",
   "execution_count": null,
   "id": "947c24f2",
   "metadata": {},
   "outputs": [],
   "source": [
    "# 데이터프레임 파일을 csv 파일로 저장합니다.\n",
    "# \"/aiffel/news_crawling_project\"\n",
    "\n",
    "project_path = os.getenv(\"HOME\") + \"/aiffel/news_crawling_project\"\n",
    "df1.to_csv(morphs_test_csv_path + \"/20230904_news.csv\", index=False)\n",
    "df2.to_csv(morphs_test_csv_path + \"/20231128_news.csv\", index=False)\n",
    "df3.to_csv(morphs_test_csv_path + \"/20240101_news.csv\", index=False)\n",
    "df4.to_csv(morphs_test_csv_path + \"/20240110_news.csv\", index=False)\n",
    "\n",
    "if os.path.exists(morphs_test_csv_path):\n",
    "  print('{} File Saved!'.format(morphs_test_csv_path))"
   ]
  },
  {
   "cell_type": "code",
   "execution_count": 5,
   "id": "c100f93a",
   "metadata": {},
   "outputs": [],
   "source": [
    "# csv 파일을 읽어서 데이터 프레임으로\n",
    "\n",
    "csv_path_20230904 = os.getenv(\"HOME\") + \"/aiffel/news_crawling_project/20230904_news.csv\"\n",
    "csv_path_20231128 = os.getenv(\"HOME\") + \"/aiffel/news_crawling_project/20231128_news.csv\"\n",
    "csv_path_20240101 = os.getenv(\"HOME\") + \"/aiffel/news_crawling_project/20240101_news.csv\"\n",
    "csv_path_20240110 = os.getenv(\"HOME\") + \"/aiffel/news_crawling_project/20240110_news.csv\"\n",
    "df_20230904 = pd.read_table(csv_path_20230904,sep=',')\n",
    "df_20231128 = pd.read_table(csv_path_20231128,sep=',')\n",
    "df_20240101 = pd.read_table(csv_path_20240101,sep=',')\n",
    "df_20240110 = pd.read_table(csv_path_20240110,sep=',')"
   ]
  },
  {
   "cell_type": "code",
   "execution_count": 6,
   "id": "efab998a",
   "metadata": {},
   "outputs": [],
   "source": [
    "# 데이터 프레임 하나로 합치기\n",
    "\n",
    "total_df = pd.concat([df_20230904,df_20231128,df_20240101,df_20240110], ignore_index = True)"
   ]
  },
  {
   "cell_type": "code",
   "execution_count": 7,
   "id": "01299088",
   "metadata": {},
   "outputs": [
    {
     "data": {
      "text/html": [
       "<div>\n",
       "<style scoped>\n",
       "    .dataframe tbody tr th:only-of-type {\n",
       "        vertical-align: middle;\n",
       "    }\n",
       "\n",
       "    .dataframe tbody tr th {\n",
       "        vertical-align: top;\n",
       "    }\n",
       "\n",
       "    .dataframe thead th {\n",
       "        text-align: right;\n",
       "    }\n",
       "</style>\n",
       "<table border=\"1\" class=\"dataframe\">\n",
       "  <thead>\n",
       "    <tr style=\"text-align: right;\">\n",
       "      <th></th>\n",
       "      <th>news</th>\n",
       "      <th>code</th>\n",
       "    </tr>\n",
       "  </thead>\n",
       "  <tbody>\n",
       "    <tr>\n",
       "      <th>0</th>\n",
       "      <td>교회 신도에게 사기 친 목사 징역 8개월 선고</td>\n",
       "      <td>사회</td>\n",
       "    </tr>\n",
       "    <tr>\n",
       "      <th>1</th>\n",
       "      <td>KBS춘천 ‘해무’, 춘천MBC ‘가고잡소’ 방송대상 수상</td>\n",
       "      <td>사회</td>\n",
       "    </tr>\n",
       "    <tr>\n",
       "      <th>2</th>\n",
       "      <td>‘특별재난지역 선포’ 고성군, 민원 수수료 등 면제</td>\n",
       "      <td>사회</td>\n",
       "    </tr>\n",
       "    <tr>\n",
       "      <th>3</th>\n",
       "      <td>강릉시, ITS국제세미나 참가…중소도시형 모델 제시</td>\n",
       "      <td>사회</td>\n",
       "    </tr>\n",
       "    <tr>\n",
       "      <th>4</th>\n",
       "      <td>동해안~신가평 송전선로 횡성 공청회 ‘무산’</td>\n",
       "      <td>사회</td>\n",
       "    </tr>\n",
       "    <tr>\n",
       "      <th>...</th>\n",
       "      <td>...</td>\n",
       "      <td>...</td>\n",
       "    </tr>\n",
       "    <tr>\n",
       "      <th>1195</th>\n",
       "      <td>상장사 자회사 코인도 상폐 수순…빗썸, '갤럭시아' 거래 지원 종료</td>\n",
       "      <td>IT/과학</td>\n",
       "    </tr>\n",
       "    <tr>\n",
       "      <th>1196</th>\n",
       "      <td>국내 벤처기업 3만5132개···SW개발 분야 12.2%로 최다</td>\n",
       "      <td>IT/과학</td>\n",
       "    </tr>\n",
       "    <tr>\n",
       "      <th>1197</th>\n",
       "      <td>넥슨의 두 번째 결단은 '큐브 판매 중단'…메이플스토리 신뢰회복 가능할까</td>\n",
       "      <td>IT/과학</td>\n",
       "    </tr>\n",
       "    <tr>\n",
       "      <th>1198</th>\n",
       "      <td>롯데정보통신 대표 \"오프라인서도 '칼리버스' 소비 보상 가능\"[CES2024]</td>\n",
       "      <td>IT/과학</td>\n",
       "    </tr>\n",
       "    <tr>\n",
       "      <th>1199</th>\n",
       "      <td>KOTRA, 데이터로 수출길 뚫는다</td>\n",
       "      <td>IT/과학</td>\n",
       "    </tr>\n",
       "  </tbody>\n",
       "</table>\n",
       "<p>1200 rows × 2 columns</p>\n",
       "</div>"
      ],
      "text/plain": [
       "                                             news   code\n",
       "0                       교회 신도에게 사기 친 목사 징역 8개월 선고     사회\n",
       "1                KBS춘천 ‘해무’, 춘천MBC ‘가고잡소’ 방송대상 수상     사회\n",
       "2                    ‘특별재난지역 선포’ 고성군, 민원 수수료 등 면제     사회\n",
       "3                    강릉시, ITS국제세미나 참가…중소도시형 모델 제시     사회\n",
       "4                        동해안~신가평 송전선로 횡성 공청회 ‘무산’     사회\n",
       "...                                           ...    ...\n",
       "1195        상장사 자회사 코인도 상폐 수순…빗썸, '갤럭시아' 거래 지원 종료  IT/과학\n",
       "1196          국내 벤처기업 3만5132개···SW개발 분야 12.2%로 최다  IT/과학\n",
       "1197     넥슨의 두 번째 결단은 '큐브 판매 중단'…메이플스토리 신뢰회복 가능할까  IT/과학\n",
       "1198  롯데정보통신 대표 \"오프라인서도 '칼리버스' 소비 보상 가능\"[CES2024]  IT/과학\n",
       "1199                          KOTRA, 데이터로 수출길 뚫는다  IT/과학\n",
       "\n",
       "[1200 rows x 2 columns]"
      ]
     },
     "execution_count": 7,
     "metadata": {},
     "output_type": "execute_result"
    }
   ],
   "source": [
    "total_df"
   ]
  },
  {
   "cell_type": "code",
   "execution_count": 8,
   "id": "4fac6557",
   "metadata": {},
   "outputs": [],
   "source": [
    "# 데이터 정제"
   ]
  },
  {
   "cell_type": "code",
   "execution_count": 9,
   "id": "b4a3b220",
   "metadata": {},
   "outputs": [
    {
     "name": "stdout",
     "output_type": "stream",
     "text": [
      "뉴스 기사의 개수:  1150\n"
     ]
    },
    {
     "name": "stderr",
     "output_type": "stream",
     "text": [
      "/tmp/ipykernel_49/3035217307.py:3: FutureWarning: The default value of regex will change from True to False in a future version.\n",
      "  total_df['news'] = total_df['news'].str.replace(\"[^ㄱ-ㅎㅏ-ㅣ가-힣 ]\",\"\")\n"
     ]
    }
   ],
   "source": [
    "# 정규 표현식을 이용해서 한글 외의 문자는 전부 제거합니다.\n",
    "\n",
    "total_df['news'] = total_df['news'].str.replace(\"[^ㄱ-ㅎㅏ-ㅣ가-힣 ]\",\"\")\n",
    "\n",
    "# 중복된 샘플들 제거\n",
    "\n",
    "total_df.drop_duplicates(subset=['news'], inplace=True)\n",
    "print('뉴스 기사의 개수: ',len(total_df))"
   ]
  },
  {
   "cell_type": "code",
   "execution_count": 10,
   "id": "93b614d0",
   "metadata": {},
   "outputs": [
    {
     "name": "stdout",
     "output_type": "stream",
     "text": [
      "    code  count\n",
      "0  IT/과학    381\n",
      "1     사회    384\n",
      "2  생활/문화    385\n"
     ]
    },
    {
     "data": {
      "image/png": "[encoded data removed]",
      "text/plain": [
       "<Figure size 432x288 with 1 Axes>"
      ]
     },
     "metadata": {
      "needs_background": "light"
     },
     "output_type": "display_data"
    }
   ],
   "source": [
    "plt.rcParams[\"font.family\"] = \"NanumGothic\"\n",
    "\n",
    "#df['code']\n",
    "total_df['code'].value_counts().plot(kind = 'bar')\n",
    "\n",
    "print(total_df.groupby('code').size().reset_index(name = 'count'))"
   ]
  },
  {
   "cell_type": "code",
   "execution_count": 11,
   "id": "dd4f8eff",
   "metadata": {},
   "outputs": [],
   "source": [
    "stopwords = ['은', '는', '이', '가', '을', '를', '의', '와', '과', '등', '등등', '했', '있', '에게', '께', '다', '들', '에', '대한', '었', '그리고',\n",
    " '그래서', '그런데', '하지만', '비록', '최근', '약', '대략', '할', '수', '로', '가령', '이나', '및', '한', '같은', '처럼', '하다', '에서', '인',\n",
    " '으로', '도', '한층', '더', '더욱', '몹시', '고', '요', '이번', '지난', '일', '명', '개', '월', '년']"
   ]
  },
  {
   "cell_type": "code",
   "execution_count": 12,
   "id": "1133de0b",
   "metadata": {},
   "outputs": [
    {
     "name": "stdout",
     "output_type": "stream",
     "text": [
      "55\n"
     ]
    }
   ],
   "source": [
    "print(len(stopwords))"
   ]
  },
  {
   "cell_type": "code",
   "execution_count": 13,
   "id": "8cef69bf",
   "metadata": {},
   "outputs": [],
   "source": [
    "tokenizer = Mecab()"
   ]
  },
  {
   "cell_type": "code",
   "execution_count": 14,
   "id": "3bdf3d56",
   "metadata": {},
   "outputs": [],
   "source": [
    "# 토큰화 및 토큰화 과정에서 불용어를 제거하는 함수입니다.\n",
    "def preprocessing(data):\n",
    "  text_data = []\n",
    "\n",
    "  for sentence in data:\n",
    "    temp_data = []\n",
    "    #- 토큰화\n",
    "    temp_data = tokenizer.morphs(sentence) \n",
    "    #- 불용어 제거\n",
    "    temp_data = [word for word in temp_data if not word in stopwords] \n",
    "    text_data.append(temp_data)\n",
    "\n",
    "  text_data = list(map(' '.join, text_data))\n",
    "\n",
    "  return text_data"
   ]
  },
  {
   "cell_type": "code",
   "execution_count": 15,
   "id": "df32aa85",
   "metadata": {},
   "outputs": [],
   "source": [
    "text_data = preprocessing(total_df['news'])"
   ]
  },
  {
   "cell_type": "code",
   "execution_count": 16,
   "id": "ba2f8b37",
   "metadata": {},
   "outputs": [],
   "source": [
    "from sklearn.model_selection import train_test_split\n",
    "from sklearn.feature_extraction.text import CountVectorizer\n",
    "from sklearn.feature_extraction.text import TfidfTransformer\n",
    "from sklearn.naive_bayes import MultinomialNB\n",
    "from sklearn import metrics"
   ]
  },
  {
   "cell_type": "code",
   "execution_count": 17,
   "id": "a99812e5",
   "metadata": {},
   "outputs": [],
   "source": [
    "X_train, X_test, y_train, y_test = train_test_split(text_data, total_df['code'], random_state = 0)"
   ]
  },
  {
   "cell_type": "code",
   "execution_count": 18,
   "id": "e0887bc2",
   "metadata": {},
   "outputs": [
    {
     "name": "stdout",
     "output_type": "stream",
     "text": [
      "훈련용 뉴스 기사의 개수 : 862\n",
      "테스트용 뉴스 기사의 개수 :  288\n",
      "훈련용 레이블의 개수 :  862\n",
      "테스트용 레이블의 개수 :  288\n"
     ]
    }
   ],
   "source": [
    "print('훈련용 뉴스 기사의 개수 :', len(X_train))\n",
    "print('테스트용 뉴스 기사의 개수 : ', len(X_test))\n",
    "print('훈련용 레이블의 개수 : ', len(y_train))\n",
    "print('테스트용 레이블의 개수 : ', len(y_test))"
   ]
  },
  {
   "cell_type": "code",
   "execution_count": 19,
   "id": "138cbabf",
   "metadata": {},
   "outputs": [],
   "source": [
    "#- 단어의 수를 카운트하는 사이킷런의 카운트벡터라이저입니다.\n",
    "count_vect = CountVectorizer()\n",
    "X_train_counts = count_vect.fit_transform(X_train)\n",
    "\n",
    "#- 카운트벡터라이저의 결과로부터 TF-IDF 결과를 얻습니다.\n",
    "tfidf_transformer = TfidfTransformer()\n",
    "X_train_tfidf = tfidf_transformer.fit_transform(X_train_counts)\n",
    "\n",
    "#- 나이브 베이즈 분류기를 수행합니다.\n",
    "#- X_train은 TF-IDF 벡터, y_train은 레이블입니다.\n",
    "clf = MultinomialNB().fit(X_train_tfidf, y_train)"
   ]
  },
  {
   "cell_type": "code",
   "execution_count": 20,
   "id": "179bb532",
   "metadata": {},
   "outputs": [],
   "source": [
    "def tfidf_vectorizer(data):\n",
    "  data_counts = count_vect.transform(data)\n",
    "  data_tfidf = tfidf_transformer.transform(data_counts)\n",
    "  return data_tfidf"
   ]
  },
  {
   "cell_type": "code",
   "execution_count": 21,
   "id": "e5dd80c2",
   "metadata": {},
   "outputs": [
    {
     "name": "stdout",
     "output_type": "stream",
     "text": [
      "['생활/문화']\n"
     ]
    }
   ],
   "source": [
    "new_sent = preprocessing([\"민주당 일각에서 법사위의 체계·자구 심사 기능을 없애야 한다는 \\\n",
    "                           주장이 나오는 데 대해 “체계·자구 심사가 법안 지연의 수단으로 \\\n",
    "                          쓰이는 것은 바람직하지 않다”면서도 “국회를 통과하는 법안 중 위헌\\\n",
    "                          법률이 1년에 10건 넘게 나온다. 그런데 체계·자구 심사까지 없애면 매우 위험하다”고 반박했다.\"])\n",
    "print(clf.predict(tfidf_vectorizer(new_sent)))"
   ]
  },
  {
   "cell_type": "code",
   "execution_count": 22,
   "id": "214e9459",
   "metadata": {},
   "outputs": [
    {
     "name": "stdout",
     "output_type": "stream",
     "text": [
      "['생활/문화']\n"
     ]
    }
   ],
   "source": [
    "new_sent = preprocessing([\"인도 로맨틱 코미디 영화 <까립까립 싱글>(2017)을 봤을 때 나는 두 눈을 의심했다. \\\n",
    "                          저 사람이 남자 주인공이라고? 노안에 가까운 이목구비와 기름때로 뭉친 파마머리와, \\\n",
    "                          대충 툭툭 던지는 말투 등 전혀 로맨틱하지 않은 외모였다. 반감이 일면서 \\\n",
    "                          ‘난 외모지상주의자가 아니다’라고 자부했던 나에 대해 회의가 들었다.\\\n",
    "                           티브이를 꺼버릴까? 다른 걸 볼까? 그런데, 이상하다. 왜 이렇게 매력 있지? 개구리와\\\n",
    "                            같이 툭 불거진 눈망울 안에는 어떤 인도 배우에게서도 느끼지 못한 \\\n",
    "                            부드러움과 선량함, 무엇보다 슬픔이 있었다. 2시간 뒤 영화가 끝나고 나는 완전히 이 배우에게 빠졌다\"])\n",
    "print(clf.predict(tfidf_vectorizer(new_sent)))"
   ]
  },
  {
   "cell_type": "code",
   "execution_count": 23,
   "id": "470703c7",
   "metadata": {},
   "outputs": [
    {
     "name": "stdout",
     "output_type": "stream",
     "text": [
      "['생활/문화']\n"
     ]
    }
   ],
   "source": [
    "new_sent = preprocessing([\"20분기 연속으로 적자에 시달리는 LG전자가 브랜드 이름부터 성능, 디자인까지 대대적인 변화를 \\\n",
    "                          적용한 LG 벨벳은 등장 전부터 온라인 커뮤니티를 뜨겁게 달궜다. 사용자들은 “디자인이 예쁘다”, \\\n",
    "                          “슬림하다”는 반응을 보이며 LG 벨벳에 대한 기대감을 드러냈다.\"])\n",
    "print(clf.predict(tfidf_vectorizer(new_sent)))"
   ]
  },
  {
   "cell_type": "code",
   "execution_count": 24,
   "id": "4e5f1d3c",
   "metadata": {},
   "outputs": [
    {
     "name": "stdout",
     "output_type": "stream",
     "text": [
      "              precision    recall  f1-score   support\n",
      "\n",
      "       IT/과학       0.69      0.72      0.70        96\n",
      "          사회       0.79      0.65      0.71        99\n",
      "       생활/문화       0.63      0.72      0.67        93\n",
      "\n",
      "    accuracy                           0.69       288\n",
      "   macro avg       0.70      0.70      0.70       288\n",
      "weighted avg       0.70      0.69      0.70       288\n",
      "\n"
     ]
    }
   ],
   "source": [
    "y_pred = clf.predict(tfidf_vectorizer(X_test))\n",
    "print(metrics.classification_report(y_test, y_pred))"
   ]
  },
  {
   "cell_type": "markdown",
   "id": "c1ddd015",
   "metadata": {},
   "source": [
    "# 회고\n",
    "\n",
    "다음에는 처음에 계획을 더 철저하게 짜야겠다는 생각이 들었다\n",
    "stopwords에 너무 치중해 다른 것에 시간을 분배하지 못했다"
   ]
  },
  {
   "cell_type": "code",
   "execution_count": null,
   "id": "1e8658a7",
   "metadata": {},
   "outputs": [],
   "source": []
  }
 ],
 "metadata": {
  "kernelspec": {
   "display_name": "Python 3 (ipykernel)",
   "language": "python",
   "name": "python3"
  },
  "language_info": {
   "codemirror_mode": {
    "name": "ipython",
    "version": 3
   },
   "file_extension": ".py",
   "mimetype": "text/x-python",
   "name": "python",
   "nbconvert_exporter": "python",
   "pygments_lexer": "ipython3",
   "version": "3.9.7"
  }
 },
 "nbformat": 4,
 "nbformat_minor": 5
}
